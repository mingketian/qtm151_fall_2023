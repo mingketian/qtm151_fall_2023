{
 "cells": [
  {
   "cell_type": "code",
   "execution_count": null,
   "metadata": {},
   "outputs": [],
   "source": [
    "import matplotlib.pyplot as plt\n",
    "import pandas as pd\n",
    "import numpy as np\n",
    "# the \"numPy\" library is used for mathematical operations\n",
    "# the \"matplotlib\" library is for generating graphs\n",
    "# the \"pandas\" library is for manipualting datasets"
   ]
  },
  {
   "cell_type": "code",
   "execution_count": null,
   "metadata": {},
   "outputs": [],
   "source": [
    "\n",
    "carfeatures = pd.read_csv('data/features.csv') \n",
    "# name of datasets = pd.read_csv(\"data/name of dataset file.csv\")\n",
    "\n",
    "# We use square brackets [...] to subset information from data \n",
    "# Text/strings have to be written in quotation marks\n",
    "# This command extracts the column 'cylinders'\n",
    "carfeatures['cylinders']"
   ]
  },
  {
   "cell_type": "code",
   "execution_count": null,
   "metadata": {},
   "outputs": [],
   "source": [
    "# crosstab counts how many rows fall into categories\n",
    "# \"index\" is the category\n",
    "# \"columns\" is a custom title\n",
    "table = pd.crosstab(index = carfeatures['cylinders'],columns = \"count\")\n",
    "table\n",
    "table.columns.name\n",
    "table.columns.name = 'column name'\n",
    "table"
   ]
  },
  {
   "cell_type": "code",
   "execution_count": null,
   "metadata": {},
   "outputs": [],
   "source": [
    "# \"describe\" computes the count, mean, std, min, 25% quantile, 50%, 75%, max\n",
    "# automatically excludes variables with text values\n",
    "# otherwise includes all numeric variables\n",
    "carfeatures.describe()\n",
    "plt.scatter(x = carfeatures['weight'], y = carfeatures['mpg'])\n",
    "plt.show()"
   ]
  },
  {
   "cell_type": "code",
   "execution_count": null,
   "metadata": {},
   "outputs": [],
   "source": [
    "# import sth as sth\n",
    "# type()\n",
    "# print()\n",
    "# assign a variable with =\n",
    "# type(list_numbers) = tuple \n",
    "name = str(3)\n",
    "\"My name is \" + name"
   ]
  },
  {
   "cell_type": "code",
   "execution_count": null,
   "metadata": {},
   "outputs": [],
   "source": [
    "list_mixed = [\"hello\", 1]\n",
    "another_list = [list_mixed, 3, 'h']\n",
    "another_list[0][1]"
   ]
  },
  {
   "cell_type": "code",
   "execution_count": null,
   "metadata": {},
   "outputs": [],
   "source": [
    "list_colors = [\"red\",\"yellow\",\"yellow\", \"green\",\"red\"]\n",
    "list_list = list_colors + ['red']\n",
    "# plot histogram with a list\n",
    "plt.hist(x= list_list)"
   ]
  },
  {
   "cell_type": "code",
   "execution_count": null,
   "metadata": {},
   "outputs": [],
   "source": [
    "list_numbers = [1,1,2,3,4,4,5,6]\n",
    "list_numbers_sqr= (1,4,9,16,25,36,49,64)\n",
    "# plot scatterplot with two lists\n",
    "# x, y must be in same size\n",
    "plt.scatter(x = list_numbers, y = list_numbers_sqr)\n",
    "plt.xlabel(\"A meaningful name for the X-axis\")\n",
    "plt.ylabel(\"Favourite name for Y-axis\")\n",
    "plt.show()"
   ]
  },
  {
   "cell_type": "code",
   "execution_count": null,
   "metadata": {},
   "outputs": [],
   "source": [
    "# Examples of numPy functions\n",
    "# $ ln(x), e^x, sin(x), cos(x), \\sqrt{x}$\n",
    "print(np.exp(1))\n",
    "print(np.sin(1))\n",
    "print(np.cos(1))\n",
    "print(np.sqrt(1))\n",
    "np.pi"
   ]
  },
  {
   "cell_type": "code",
   "execution_count": null,
   "metadata": {},
   "outputs": [],
   "source": [
    "# create an array from a list\n",
    "vec_a  = np.array([1,2,3])\n",
    "print(vec_a[0])\n",
    "print(np.mean(vec_a))\n",
    "print(np.std(vec_a))\n",
    "print(np.min(vec_a))\n",
    "print(np.median(vec_a))\n",
    "print(np.max(vec_a))\n",
    "vec_a.shape "
   ]
  },
  {
   "cell_type": "code",
   "execution_count": null,
   "metadata": {},
   "outputs": [],
   "source": [
    "np.random.seed(10393)\n",
    "# aviod random numbers differe every time\n",
    "\n",
    "# This code creates a vector of random variables \n",
    "# mean \"loc\" (location) and standard deviation \"scale\"\n",
    "# the number of distinct variabels is \"size\"\n",
    "randomvar_a = np.random.normal(loc=0, scale=1, size=10)\n",
    "print(randomvar_a)\n",
    "\n",
    "# Compute a histogram\n",
    "plt.hist(x = randomvar_a)\n",
    "plt.xlabel(\"Variable a\")\n",
    "plt.ylabel(\"Frequency\") \n",
    "\n",
    "# Set Sample size \n",
    "n = 10000\n",
    "# A normam with \"loc\" and standard deviation \"5\"\n",
    "vec_normal  = np.random.normal(loc = 7, scale = 5, size = n)\n",
    "# A chi-square with \"df\" degrees of freedom\n",
    "vec_chisqr  = np.random.chisquare(df = 1, size = n)\n",
    "# A uniform with values between -3 and 5\n",
    "vec_unif    = np.random.uniform(low = -3,high = 5, size = n)\n",
    "\n",
    "print(vec_normal.mean())"
   ]
  },
  {
   "cell_type": "code",
   "execution_count": null,
   "metadata": {},
   "outputs": [],
   "source": [
    "# optional\n",
    "# Matrices \n",
    "X = np.array([[1,2,3],[0,4,5],[0,0,6]])\n",
    "print(X)\n",
    "Y = np.column_stack([[1,0,1],[2,1,0]])\n",
    "print(Y)\n",
    "# Matrix Transpose\n",
    "np.matrix.transpose(Y)\n",
    "# Matrix Multiplication\n",
    "np.dot(X,Y)\n",
    "np.matmul(X,Y)\n",
    "# Matrix inverse\n",
    "X_inv = np.linalg.inv(X)"
   ]
  },
  {
   "cell_type": "code",
   "execution_count": null,
   "metadata": {},
   "outputs": [],
   "source": [
    "# BOOLEAN TYPE: True and False \n",
    "# == test two strings\n",
    "# <, <=, >=, > \n",
    "# isinstance command, check if y is integer, etc.\n",
    "y = 10\n",
    "print( isinstance(y,int)  )\n",
    "# int, float, str\n",
    "# bool()\n",
    "print(bool(10))\n",
    "\n",
    "# test one by one\n",
    "vec_a = np.array([1,2,3])\n",
    "vec_b = np.array([1,2,4])\n",
    "vec_a == vec_b"
   ]
  },
  {
   "cell_type": "code",
   "execution_count": null,
   "metadata": {},
   "outputs": [],
   "source": [
    "# condition A\n",
    "age = 20\n",
    "# not A\n",
    "not (age < 18)\n",
    "\n",
    "# conditon A or condition B satisfied\n",
    "( age >= 20 ) | (age <= 30)\n",
    "\n",
    "# condition A and condition B both satisfied \n",
    "student_status = \"freshman\" \n",
    "(student_status == \"freshman\") & (student_status == \"sophomore\")"
   ]
  },
  {
   "cell_type": "code",
   "execution_count": null,
   "metadata": {},
   "outputs": [],
   "source": [
    "# flow control - if/elif/else\n",
    "# We start by defining a string\n",
    "any_questions = \"no\"\n",
    "# Test expression\n",
    "# if ... ：\n",
    "if any_questions == \"yes\":\n",
    "# Body of expression\n",
    "# intend print()\n",
    "    print(\"Need to give more explanations\")\n",
    "\n",
    "years_in_program = 4\n",
    "if years_in_program == 1:\n",
    "    print(\"This student is a freshman\")\n",
    "elif years_in_program == 2:\n",
    "    print(\"This student is a sophomore\")\n",
    "else:\n",
    "    print(\"This student is a senior\")"
   ]
  },
  {
   "cell_type": "code",
   "execution_count": null,
   "metadata": {},
   "outputs": [],
   "source": [
    "list_answers = [None,None,None]\n",
    "list_answers[0] = \"\"\n",
    "new_list = []\n",
    "# append() : append the element to the end of the list \n",
    "# new_list.append()\n",
    "# add one argument each time\n",
    "new_list.append(\"item\")\n",
    "\n",
    "#repeated answers\n",
    "list_answers_rep = list_answers * 4 \n",
    "list_none_rep = [0] * 8 "
   ]
  },
  {
   "cell_type": "code",
   "execution_count": null,
   "metadata": {},
   "outputs": [],
   "source": [
    "# When you multipy a list times a number you repeat the list\n",
    "list_a = [1,2,3]\n",
    "print( list_a*4)\n",
    "\n",
    "# When you multipy an array times a number, you multiply each element\n",
    "vec_a = np.array(list_a)\n",
    "print( vec_a * 4)\n",
    "\n",
    "# len() is a function that counts the number of elements\n",
    "print(len(list_answers))"
   ]
  },
  {
   "cell_type": "code",
   "execution_count": null,
   "metadata": {},
   "outputs": [],
   "source": [
    "# Loops - for-loop:\n",
    "# customized message + numbering:\n",
    "list_ids = [\"KIA\", \"Ferrari\", \"Ford\", \"Tesla\"]\n",
    "\n",
    "for id in list_ids:\n",
    "    print(\"Dear customer, we are writing about your \"  + id + \" car.\")\n",
    "for id in list_ids + ['a', 'b', 'c']:\n",
    "\n",
    "# or:\n",
    "index = 1\n",
    "print('We are out of the loop', index)\n",
    "for id in list_ids:\n",
    "    print(\"Dear customer, your position is \" + str(index) + \" on the waitlist\" +\n",
    "           \" and your car brand is \" + id )\n",
    "    index = index + 1\n",
    "    print('We are inside the loop', index)\n",
    "\n",
    "# or:\n",
    "for i in range(len(list_ids)):\n",
    "    print(\"Dear customer, your position is \" + str(i+1) + \" on the waitlist\" +\n",
    "           \" and your car brand is \" + list_ids[i])\n",
    "    \n",
    "    # Example 2: Customized Message + Numering\n",
    "\n",
    "# optional (for x in y:\n",
    "topic_list   = [\"Python\",\"Python\",\"SQL\"]\n",
    "module_list  = [\"One\", \"Two\", \"Three\"]\n",
    "num_topics = len(topic_list)\n",
    "\n",
    "message_list = [\" Module \" + module_list[i] + \" will cover \" + topic_list[i] for i in range(num_topics)]"
   ]
  },
  {
   "cell_type": "code",
   "execution_count": null,
   "metadata": {},
   "outputs": [],
   "source": [
    "# plots for variables\n",
    "# import data, create list, for-loop:\n",
    "carfeatures = pd.read_csv(\"data/features.csv\")\n",
    "list_vars   = [\"acceleration\",\"weight\"]\n",
    "\n",
    "for variables in list_vars:\n",
    "    plt.scatter(x= carfeatures[variables], y = carfeatures[\"mpg\"])\n",
    "    plt.ylabel(\"mpg\")\n",
    "    plt.xlabel(variables)\n",
    "    plt.show()\n",
    "\n",
    "# or\n",
    "index = 1\n",
    "for variables in list_vars:\n",
    "    plt.scatter(x= carfeatures[variables], y = carfeatures[\"mpg\"])\n",
    "    plt.ylabel(\"mpg\")\n",
    "    plt.xlabel(variables)\n",
    "    plt.title(\"Figure\" + str(index))\n",
    "    plt.show()\n",
    "    index = index + 1 # used for numbering "
   ]
  },
  {
   "cell_type": "code",
   "execution_count": null,
   "metadata": {},
   "outputs": [],
   "source": [
    "list_x = [1,2,4,5,6,7,8,9,10]\n",
    "list_y = []\n",
    "\n",
    "# Create an index \n",
    "for x in list_x: \n",
    "    y = x**2 + 2*x\n",
    "    list_y.append(y)\n",
    "\n",
    "# Display results visually\n",
    "print(list_y)\n",
    "plt.scatter(list_x, list_y)\n",
    "plt.xlabel(\"X-axis\")\n",
    "plt.ylabel(\"Y-axis\")\n",
    "\n",
    "# or\n",
    "list_x = [1,2,4,5,6,7,8,9,10]\n",
    "list_y = [None] * len(list_x)\n",
    "\n",
    "# Create an index \n",
    "index = 0\n",
    "for x in list_x:\n",
    "    list_y[index] = list_x[index]**2 + 2*list_x[index]\n",
    "    index = index + 1\n",
    "\n",
    "# Display results visually see above"
   ]
  },
  {
   "cell_type": "code",
   "execution_count": null,
   "metadata": {},
   "outputs": [],
   "source": [
    "# import multiple datasets together \n",
    "list_datasets = [\"features.csv\",\"worlbank_wdi_2019.csv\"]\n",
    "\n",
    "# skipping iteration: continue\n",
    "# stopping the loop: breaking - lecture 5"
   ]
  },
  {
   "cell_type": "code",
   "execution_count": null,
   "metadata": {},
   "outputs": [],
   "source": [
    "# multiple plots in a row - subplots\n",
    "# Create a plot with 1 row, 2 columns\n",
    "# The option \"figsize\" indicates the (width,height) of the graph\n",
    "fig, list_subfig = plt.subplots(1, 2,figsize = (6,3))\n",
    "plt.tight_layout()\n",
    "# The tight layout option ensures that the axes are not overlapping\n",
    "\n",
    "# First Figure\n",
    "list_subfig[0].hist(x = vec_normal)\n",
    "list_subfig[0].set_title(\"Normal Distribution\")\n",
    "list_subfig[0].set_xlabel(\"Value\")\n",
    "list_subfig[0].set_ylabel(\"Frequency\")\n",
    "\n",
    "# Second Figure\n",
    "list_subfig[1].hist(x = vec_unif)\n",
    "list_subfig[1].set_title(\"Uniform Distribution\")\n",
    "list_subfig[1].set_xlabel(\"Value\")\n",
    "list_subfig[1].set_ylabel(\"Frequency\")"
   ]
  },
  {
   "cell_type": "code",
   "execution_count": null,
   "metadata": {},
   "outputs": [],
   "source": [
    "# singe loop - xbar with different sample size? - not change sample size, \n",
    "# Use \"list(range(n))\" to create a list from 0 to (n-1).\n",
    "n= 10\n",
    "list_zero_ten = list(range(n))\n",
    "print(list_zero_ten)\n",
    "\n",
    "# We will draw random sample \"num_simulations\" times\n",
    "# Each time we will create a random vector of size \"sample_size\"\n",
    "num_simulations = 2000\n",
    "sample_size     = 100\n",
    "\n",
    "vec_xbar = [None] * num_simulations\n",
    "\n",
    "for iteration in range(num_simulations):\n",
    "    vec_unif  = np.random.uniform(low = -2, high=2, size = sample_size)\n",
    "    vec_xbar[iteration] = vec_unif.mean()\n",
    "\n",
    "plt.hist(vec_xbar)\n",
    "plt.title(\"Distribution of Xbar with different simulated samples\")\n",
    "plt.ylabel(\"Frequency\")\n",
    "plt.xlabel(\"Values of Xbar\")\n",
    "plt.show()\n",
    "\n",
    "# nested loop - xbar with different n\n",
    "# change sample size, the larger the size, more to the normal distribution\n",
    "# another for-loop\n",
    "\n",
    "num_simulations = 2000\n",
    "sample_size_list = [1,10,50,100,200]\n",
    "\n",
    "for sample_size in sample_size_list:\n",
    "\n",
    "    # The following command a vector null values, of length \"num_simulations\"\n",
    "    vec_xbar = [None] * num_simulations\n",
    "    \n",
    "    for iteration in range(num_simulations):\n",
    "            vec_unif  = np.random.uniform(low = -2, high=2, size = sample_size)\n",
    "            vec_xbar[iteration] = vec_unif.mean()\n",
    "    plt.hist(vec_xbar)\n",
    "    plt.title(\"Distribution of Xbar when n is \" + str(sample_size))\n",
    "    plt.ylabel(\"Frequency\")\n",
    "    plt.xlabel(\"Values of Xbar\")\n",
    "    plt.show()\n",
    "\n",
    "# combine sub-plots and nested loop:\n",
    "# another for-loop\n",
    "num_simulations = 2000\n",
    "sample_size_list = [1,10,50,100,200]\n",
    "fig, list_subfig = plt.subplots(1,len(sample_size_list),figsize = (12,3))\n",
    "plt.tight_layout()\n",
    "index = 0\n",
    "for sample_size in sample_size_list: \n",
    "        vec_xbar = [None]*num_simulations\n",
    "        for i in range(num_simulations):\n",
    "              vec_chisqr=np.random.chisquare(df = 1, size = sample_size)\n",
    "              vec_xbar[i]=vec_chisqr.mean()\n",
    "        list_subfig[index].hist(vec_xbar)\n",
    "        list_subfig[index].set_title(\"Distribution of Xbar when n is\" +str(sample_size))\n",
    "        list_subfig[index].set_xlabel(\"Value of Xbar\")\n",
    "        list_subfig[index].set_ylabel(\"Frequency\")\n",
    "        index = index + 1\n",
    "# when numbering, don't use sample_size(this is different numbers), use index, index=0 before for...in..., index =indext +1"
   ]
  },
  {
   "cell_type": "code",
   "execution_count": null,
   "metadata": {},
   "outputs": [],
   "source": [
    "sample_stdv = X.std()\n",
    "# optional:\n",
    "num_simulations = 1000\n",
    "n                 = 10000\n",
    "population_mean   = 2\n",
    "population_stdv   = 5\n",
    "\n",
    "list_test_confidenceinterval = []\n",
    "\n",
    "for iteration in range(n):\n",
    "    vec_x = np.random.normal(loc = population_mean, scale = population_stdv, size = n)\n",
    "    Xbar        = vec_x.mean()\n",
    "    sample_stdv = vec_x.std()\n",
    "    lower_bound = Xbar - 1.96*(sample_stdv / np.sqrt(n))\n",
    "    upper_bound = Xbar + 1.96*(sample_stdv / np.sqrt(n))\n",
    "    test_confidenceinterval = (lower_bound <= population_mean) & (population_mean <= upper_bound)\n",
    "    list_test_confidenceinterval.append((test_confidenceinterval))\n",
    "# Compute the mean of list_confidence_interval\n",
    "# This produce the percentage of times that the population_mean"
   ]
  },
  {
   "cell_type": "code",
   "execution_count": null,
   "metadata": {},
   "outputs": [],
   "source": [
    "# print(),type(),round(),abs(),len()\n",
    "round(np.pi,  10)\n",
    "len('Hello')\n",
    "\n",
    "# custom functions\n",
    "def function_v(parameters):\n",
    "    v = ()\n",
    "    return v\n",
    "function_v=(parameters=())"
   ]
  },
  {
   "cell_type": "code",
   "execution_count": null,
   "metadata": {},
   "outputs": [],
   "source": [
    "# Lambda function \n",
    "my_function = lambda parameters: expression\n",
    "# my_function(1,2,...)\n",
    "\n",
    "# Boolean+function\n",
    "fn_iseligible_vote = lambda age: age>=18\n",
    "fn_iseligible_vote(20)\n",
    "# returns a boolean value that checks the function\n",
    "\n",
    "# Looping+function\n",
    "list_ages = [18,29,15,32,6]\n",
    "result_list = []\n",
    "\n",
    "for age in list_ages:\n",
    "    result_list.append(fn_iseligible_vote(age))\n",
    "np.sum(result_list)\n",
    "\n",
    "# customized plot used the above \n",
    "# import, change color, plot "
   ]
  },
  {
   "cell_type": "code",
   "execution_count": null,
   "metadata": {},
   "outputs": [],
   "source": [
    "# subsetting data\n",
    "# import dataset, display certain data/variables \n",
    "display()\n",
    "car_colnames = carfeatures.columns.values\n",
    "\n",
    "list_subcols = [car_colnames[0],car_colnames[1]]\n",
    "carfeatures[list_subcols]\n",
    "\n",
    "#or\n",
    "display(carfeatures[[\"weight\",\"mpg\"]])\n",
    "\n",
    "#or\n",
    "list_subsetcols     = [\"weight\",\"mpg\"]\n",
    "subcols_carfeatures = carfeatures[list_subsetcols]\n",
    "display(subcols_carfeatures)\n",
    "# various ways to extract variables from datasets "
   ]
  },
  {
   "cell_type": "code",
   "execution_count": null,
   "metadata": {},
   "outputs": [],
   "source": [
    "# subsetting by row or columns\n",
    "\n",
    "# sort values\n",
    "carsorted = carfeatures.sort_values(by = \"mpg\", ascending = False)\n",
    "display(carsorted)\n",
    "\n",
    "carsorted.iloc[[[0,1,2]]]\n",
    "display(carsorted.iloc[[0,1,2],:])\n",
    "# subset rows - iloc[[row_int,:]]\n",
    "# subset columns - iloc[[:, col_integer]]\n",
    "# multiple rows or columns\n",
    "# rows and columns"
   ]
  },
  {
   "cell_type": "code",
   "execution_count": null,
   "metadata": {},
   "outputs": [],
   "source": [
    "carfeatures[carfeatures[\"mpg\"]>=25]\n",
    "# or\n",
    "carfeatures.query(\"mpg >= 25\")\n",
    "# extract values of mpg >= 25\n",
    "carfeatures.query(\"(acceleration >= 10) & (acceleration < 18)\") \n",
    "\n",
    "carfeatures[(carfeatures[\"acceleration\"]>=10) & (carfeatures[\"acceleration\"]<18)]\n",
    "# or\n",
    "carfeatures.query(\"(acceleration >= 10) & (acceleration < 18)\")\n",
    "# extract values between ... and ...\n",
    "\n",
    "(carfeatures[\"acceleration\"]>=10) & (carfeatures[\"acceleration\"]<18)\n",
    "# boolean type\n",
    "\n",
    "#...lecture 9"
   ]
  },
  {
   "cell_type": "code",
   "execution_count": null,
   "metadata": {},
   "outputs": [],
   "source": [
    "dataset = pd.DataFrame()\n"
   ]
  }
 ],
 "metadata": {
  "kernelspec": {
   "display_name": "Python 3",
   "language": "python",
   "name": "python3"
  },
  "language_info": {
   "codemirror_mode": {
    "name": "ipython",
    "version": 3
   },
   "file_extension": ".py",
   "mimetype": "text/x-python",
   "name": "python",
   "nbconvert_exporter": "python",
   "pygments_lexer": "ipython3",
   "version": "3.11.4"
  },
  "orig_nbformat": 4,
  "vscode": {
   "interpreter": {
    "hash": "aee8b7b246df8f9039afb4144a1f6fd8d2ca17a180786b69acc140d282b71a49"
   }
  }
 },
 "nbformat": 4,
 "nbformat_minor": 2
}
