{
 "cells": [
  {
   "attachments": {},
   "cell_type": "markdown",
   "metadata": {},
   "source": [
    "# Assignment 7"
   ]
  },
  {
   "attachments": {},
   "cell_type": "markdown",
   "metadata": {},
   "source": [
    "## Try to submit as an HTML file"
   ]
  },
  {
   "attachments": {},
   "cell_type": "markdown",
   "metadata": {},
   "source": [
    "<font size = \"5\">\n",
    "Print your name below"
   ]
  },
  {
   "cell_type": "code",
   "execution_count": 78,
   "metadata": {},
   "outputs": [
    {
     "name": "stdout",
     "output_type": "stream",
     "text": [
      "Mingke Tian\n"
     ]
    }
   ],
   "source": [
    "# Write your answer here:\n",
    "print(\"Mingke Tian\")"
   ]
  },
  {
   "attachments": {},
   "cell_type": "markdown",
   "metadata": {},
   "source": [
    "<font size = \"5\">\n",
    "\n",
    "Import the \"pandas\" and \"numpy\" library"
   ]
  },
  {
   "cell_type": "code",
   "execution_count": 79,
   "metadata": {},
   "outputs": [],
   "source": [
    "# Write your answer here:\n",
    "import numpy as np\n",
    "import pandas as pd"
   ]
  },
  {
   "attachments": {},
   "cell_type": "markdown",
   "metadata": {},
   "source": [
    "<font size = \"5\">\n",
    "\n",
    "(a) Replace values from intervals\n",
    "\n",
    "<font size = \"3\">\n",
    "\n",
    "- Import the dataset \"data_raw/students.csv\" to a new object \"students\"\n",
    "- Use \"pd.cut()\" to assign the column \"numericgrade\" to a letter grade <br>\n",
    "using the following table\n",
    "\n",
    "<img src=\"figures/grading_scale.png\" alt=\"drawing\" width=\"600\"/>\n",
    "\n",
    "HINT: See Lecture 12"
   ]
  },
  {
   "cell_type": "code",
   "execution_count": 80,
   "metadata": {},
   "outputs": [
    {
     "data": {
      "text/plain": [
       "0     C-\n",
       "1      F\n",
       "2      F\n",
       "3      D\n",
       "4     C+\n",
       "5      A\n",
       "6      F\n",
       "7      F\n",
       "8      F\n",
       "9     C-\n",
       "10     F\n",
       "11     F\n",
       "12    B-\n",
       "13     A\n",
       "14     F\n",
       "15     F\n",
       "16     F\n",
       "17     D\n",
       "18     B\n",
       "19     F\n",
       "20     F\n",
       "21    A-\n",
       "22     B\n",
       "23     F\n",
       "24    C-\n",
       "Name: newgrade, dtype: category\n",
       "Categories (10, object): ['F' < 'D' < 'C-' < 'C' ... 'B' < 'B+' < 'A-' < 'A']"
      ]
     },
     "execution_count": 80,
     "metadata": {},
     "output_type": "execute_result"
    }
   ],
   "source": [
    "# Write your answer here:\n",
    "students = pd.read_csv(\"data_raw/students.csv\")\n",
    "\n",
    "bins_x = [-1, 54, 59, 64, 69, 74, 79, 82, 86, 92, 100]\n",
    "labels_x = [\"F\",\"D\",\"C-\",\"C\",\"C+\",\"B-\",\"B\",\"B+\",\"A-\",\"A\"]\n",
    "\n",
    "students[\"newgrade\"] = pd.cut(students[\"numericgrade\"],\n",
    "                              bins = bins_x,\n",
    "                              right = True,\n",
    "                              labels = labels_x)\n",
    "students[\"newgrade\"]"
   ]
  },
  {
   "attachments": {},
   "cell_type": "markdown",
   "metadata": {},
   "source": [
    "<font size = \"5\">\n",
    "\n",
    "For questions (b)-(e) use \"sprint_results.csv\", <br>\n",
    "a dataset on competitive car racing\n",
    "\n",
    "Import the dataset \"data_raw/sprint_results.csv\" to <br>\n",
    " a new object \"sprint_results\""
   ]
  },
  {
   "cell_type": "code",
   "execution_count": 81,
   "metadata": {},
   "outputs": [],
   "source": [
    "# Write your own code\n",
    "sprint_results = pd.read_csv(\"data_raw/sprint_results.csv\")"
   ]
  },
  {
   "attachments": {},
   "cell_type": "markdown",
   "metadata": {},
   "source": [
    "<font size = \"5\">\n",
    "\n",
    "(b) Check column types\n",
    "\n",
    "<font size = \"3\">\n",
    "\n",
    "- View the dataset\n",
    "- Use the function `sprint_results.dtypes` to get the column data types\n",
    "- Search for the \"sprint_results\" table in \"codebook/f1_codebook.pdf\".\n",
    "- **Print if the type of the \"position\" column agree with the codebook?** <br>\n",
    "i.e. is it an integer, float, or string/object?\n",
    "\n",
    "HINT: See Lectures 12 and 13 for how to interpret the codebook\n",
    "\n",
    "- Print the difference you observed between the codebook and the new dataframe you have created.\n",
    "\n",
    "---\n",
    "**Optional**\n",
    "- Convert this `sprint_results.dtypes` object type into DataFrame and  the datatype of `position`.\n",
    "- HINT: Use pd.DataFrame().reset_index <br>\n",
    "`reset_index` is to convert the index to a column \n",
    "---\n",
    "\n",
    "\n",
    "\n",
    "\n",
    "\n",
    "<span style = \"color:blue\"> There are other columns that has disparity with the codebook.\\\n",
    "Feel free to explore them! </span>"
   ]
  },
  {
   "cell_type": "code",
   "execution_count": 82,
   "metadata": {},
   "outputs": [
    {
     "name": "stdout",
     "output_type": "stream",
     "text": [
      "The type of the position column is object\n",
      "The type of the position column in codebook is int(11)\n"
     ]
    }
   ],
   "source": [
    "# Write your own code here\n",
    "# Note: When you run \"sprint_results.dtypes\" you will get the type (int, float, object)\n",
    "# Object represents columns coded as strings.\n",
    "# sprint_results.info()\n",
    "\n",
    "sprint_results.dtypes\n",
    "result = sprint_results[\"position\"].dtype\n",
    "print(\"The type of the position column is \" + str(result))\n",
    "print(\"The type of the position column in codebook is int(11)\")\n",
    "    "
   ]
  },
  {
   "attachments": {},
   "cell_type": "markdown",
   "metadata": {},
   "source": [
    "<font size = \"5\">\n",
    "\n",
    "(c) Clean a column\n",
    "\n",
    "<font size = \"3\">\n",
    "\n",
    "- Our goal is to replace any string values in the column \"position\" <br>\n",
    "to missing values (NaNs) and covert to numeric\n",
    "\n",
    "- To do so\n",
    "    1. Extract list of non-numeric values\n",
    "    2. Replace certain list of values\n",
    "    3. Convert column to numeric\n",
    "    4. Display\n"
   ]
  },
  {
   "cell_type": "code",
   "execution_count": 84,
   "metadata": {},
   "outputs": [
    {
     "name": "stdout",
     "output_type": "stream",
     "text": [
      "['\\\\N']\n"
     ]
    }
   ],
   "source": [
    "# Write your own code here\n",
    "# Create and store a list of non-numeric values\n",
    "subset = sprint_results.query(\"position.str.isnumeric() == False\")\n",
    "list_unique = pd.unique(subset[\"position\"])\n",
    "print(list_unique)"
   ]
  },
  {
   "cell_type": "code",
   "execution_count": 85,
   "metadata": {},
   "outputs": [
    {
     "data": {
      "text/plain": [
       "0        1\n",
       "1        2\n",
       "2        3\n",
       "3        4\n",
       "4        5\n",
       "      ... \n",
       "115     16\n",
       "116     17\n",
       "117     18\n",
       "118     19\n",
       "119    NaN\n",
       "Name: position, Length: 120, dtype: object"
      ]
     },
     "metadata": {},
     "output_type": "display_data"
    }
   ],
   "source": [
    "# Create a list for replacement\n",
    "list_old = ['\\\\N']\n",
    "list_new = [np.nan]\n",
    "sprint_results[\"position\"] = sprint_results[\"position\"].replace(list_old, list_new)\n",
    "pd.to_numeric(sprint_results[\"position\"])\n",
    "display(sprint_results[\"position\"])"
   ]
  },
  {
   "attachments": {},
   "cell_type": "markdown",
   "metadata": {},
   "source": [
    "<font size = \"5\">\n",
    "\n",
    "(d) Groupby + Aggregate\n",
    "\n",
    "<font size = \"3\">\n",
    "\n",
    "- Compute the mean and standard deviation of \"position\", <br>\n",
    "grouping by \"constructorId\". Store the new dataset <br>\n",
    "as \"df_aggConstrcId_pos\"\n",
    "\n",
    "- Sort the aggregate dataset in ascending <br>\n",
    "order of mean position using \".sort_values()\" <br>\n",
    "(i.e., to find the constructor with drivers having the best mean positions)\n",
    "\n",
    "- Display\n",
    "\n",
    "- Print which constructorId has the lowest mean position.\n",
    "\n",
    "HINT: See Lecture 13 <br>\n"
   ]
  },
  {
   "cell_type": "code",
   "execution_count": 86,
   "metadata": {},
   "outputs": [
    {
     "data": {
      "text/html": [
       "<div>\n",
       "<style scoped>\n",
       "    .dataframe tbody tr th:only-of-type {\n",
       "        vertical-align: middle;\n",
       "    }\n",
       "\n",
       "    .dataframe tbody tr th {\n",
       "        vertical-align: top;\n",
       "    }\n",
       "\n",
       "    .dataframe thead th {\n",
       "        text-align: right;\n",
       "    }\n",
       "</style>\n",
       "<table border=\"1\" class=\"dataframe\">\n",
       "  <thead>\n",
       "    <tr style=\"text-align: right;\">\n",
       "      <th></th>\n",
       "      <th></th>\n",
       "      <th>mean_points</th>\n",
       "      <th>sd_points</th>\n",
       "    </tr>\n",
       "    <tr>\n",
       "      <th>position</th>\n",
       "      <th>constructorId</th>\n",
       "      <th></th>\n",
       "      <th></th>\n",
       "    </tr>\n",
       "  </thead>\n",
       "  <tbody>\n",
       "    <tr>\n",
       "      <th rowspan=\"2\" valign=\"top\">1</th>\n",
       "      <th>9</th>\n",
       "      <td>6.333333</td>\n",
       "      <td>2.886751</td>\n",
       "    </tr>\n",
       "    <tr>\n",
       "      <th>131</th>\n",
       "      <td>4.666667</td>\n",
       "      <td>2.886751</td>\n",
       "    </tr>\n",
       "    <tr>\n",
       "      <th rowspan=\"3\" valign=\"top\">10</th>\n",
       "      <th>51</th>\n",
       "      <td>0.000000</td>\n",
       "      <td>NaN</td>\n",
       "    </tr>\n",
       "    <tr>\n",
       "      <th>117</th>\n",
       "      <td>0.000000</td>\n",
       "      <td>0.000000</td>\n",
       "    </tr>\n",
       "    <tr>\n",
       "      <th>210</th>\n",
       "      <td>0.000000</td>\n",
       "      <td>NaN</td>\n",
       "    </tr>\n",
       "    <tr>\n",
       "      <th>...</th>\n",
       "      <th>...</th>\n",
       "      <td>...</td>\n",
       "      <td>...</td>\n",
       "    </tr>\n",
       "    <tr>\n",
       "      <th rowspan=\"5\" valign=\"top\">9</th>\n",
       "      <th>3</th>\n",
       "      <td>0.000000</td>\n",
       "      <td>NaN</td>\n",
       "    </tr>\n",
       "    <tr>\n",
       "      <th>9</th>\n",
       "      <td>0.000000</td>\n",
       "      <td>NaN</td>\n",
       "    </tr>\n",
       "    <tr>\n",
       "      <th>117</th>\n",
       "      <td>0.000000</td>\n",
       "      <td>NaN</td>\n",
       "    </tr>\n",
       "    <tr>\n",
       "      <th>210</th>\n",
       "      <td>0.000000</td>\n",
       "      <td>NaN</td>\n",
       "    </tr>\n",
       "    <tr>\n",
       "      <th>214</th>\n",
       "      <td>0.000000</td>\n",
       "      <td>0.000000</td>\n",
       "    </tr>\n",
       "  </tbody>\n",
       "</table>\n",
       "<p>75 rows × 2 columns</p>\n",
       "</div>"
      ],
      "text/plain": [
       "                        mean_points  sd_points\n",
       "position constructorId                        \n",
       "1        9                 6.333333   2.886751\n",
       "         131               4.666667   2.886751\n",
       "10       51                0.000000        NaN\n",
       "         117               0.000000   0.000000\n",
       "         210               0.000000        NaN\n",
       "...                             ...        ...\n",
       "9        3                 0.000000        NaN\n",
       "         9                 0.000000        NaN\n",
       "         117               0.000000        NaN\n",
       "         210               0.000000        NaN\n",
       "         214               0.000000   0.000000\n",
       "\n",
       "[75 rows x 2 columns]"
      ]
     },
     "metadata": {},
     "output_type": "display_data"
    },
    {
     "name": "stdout",
     "output_type": "stream",
     "text": [
      "The constructorId that has the lowest mean position can be 210\n"
     ]
    }
   ],
   "source": [
    "# Write your own code\n",
    "df_aggConstrcld_pos = (sprint_results.groupby([\"position\",\"constructorId\"])\n",
    "                       .agg(mean_points = ('points','mean'),\n",
    "                            sd_points =   ('points','std')))\n",
    "df_aggConstrcld_pos.sort_values(by='mean_points',ascending=True)\n",
    "display(df_aggConstrcld_pos)\n",
    "print(\"The constructorId that has the lowest mean position can be 210\")"
   ]
  },
  {
   "attachments": {},
   "cell_type": "markdown",
   "metadata": {},
   "source": [
    "<font size = \"5\" >\n",
    "\n",
    "(d) Query + Groupby + Aggregate\n",
    "\n",
    "<font size = \"3\">\n",
    "\n",
    "- Use \".query()\" to subset observations with <br>\n",
    "'race_id >= 100'\n",
    "\n",
    "- Compute the mean and standard deviation of \"position\", <br>\n",
    "grouping by \"constructorId\". Store the new dataset <br>\n",
    "as \"df_subAggConstr_pos\"\n",
    "\n",
    "- Display\n",
    "\n",
    "Hint: See Lectures 9 and 11 (to refresh \".query()\") and <br>\n",
    "Lecture 13 for how to combine it with \".groupby()\""
   ]
  },
  {
   "cell_type": "code",
   "execution_count": 88,
   "metadata": {},
   "outputs": [
    {
     "data": {
      "text/html": [
       "<div>\n",
       "<style scoped>\n",
       "    .dataframe tbody tr th:only-of-type {\n",
       "        vertical-align: middle;\n",
       "    }\n",
       "\n",
       "    .dataframe tbody tr th {\n",
       "        vertical-align: top;\n",
       "    }\n",
       "\n",
       "    .dataframe thead th {\n",
       "        text-align: right;\n",
       "    }\n",
       "</style>\n",
       "<table border=\"1\" class=\"dataframe\">\n",
       "  <thead>\n",
       "    <tr style=\"text-align: right;\">\n",
       "      <th></th>\n",
       "      <th>mean_points</th>\n",
       "      <th>sd_points</th>\n",
       "    </tr>\n",
       "    <tr>\n",
       "      <th>constructorId</th>\n",
       "      <th></th>\n",
       "      <th></th>\n",
       "    </tr>\n",
       "  </thead>\n",
       "  <tbody>\n",
       "    <tr>\n",
       "      <th>1</th>\n",
       "      <td>0.833333</td>\n",
       "      <td>1.403459</td>\n",
       "    </tr>\n",
       "    <tr>\n",
       "      <th>3</th>\n",
       "      <td>0.000000</td>\n",
       "      <td>0.000000</td>\n",
       "    </tr>\n",
       "    <tr>\n",
       "      <th>6</th>\n",
       "      <td>3.000000</td>\n",
       "      <td>3.162278</td>\n",
       "    </tr>\n",
       "    <tr>\n",
       "      <th>9</th>\n",
       "      <td>3.500000</td>\n",
       "      <td>2.876235</td>\n",
       "    </tr>\n",
       "    <tr>\n",
       "      <th>51</th>\n",
       "      <td>0.166667</td>\n",
       "      <td>0.577350</td>\n",
       "    </tr>\n",
       "    <tr>\n",
       "      <th>117</th>\n",
       "      <td>0.000000</td>\n",
       "      <td>0.000000</td>\n",
       "    </tr>\n",
       "    <tr>\n",
       "      <th>131</th>\n",
       "      <td>2.416667</td>\n",
       "      <td>2.678478</td>\n",
       "    </tr>\n",
       "    <tr>\n",
       "      <th>210</th>\n",
       "      <td>0.333333</td>\n",
       "      <td>0.651339</td>\n",
       "    </tr>\n",
       "    <tr>\n",
       "      <th>213</th>\n",
       "      <td>0.000000</td>\n",
       "      <td>0.000000</td>\n",
       "    </tr>\n",
       "    <tr>\n",
       "      <th>214</th>\n",
       "      <td>0.250000</td>\n",
       "      <td>0.866025</td>\n",
       "    </tr>\n",
       "  </tbody>\n",
       "</table>\n",
       "</div>"
      ],
      "text/plain": [
       "               mean_points  sd_points\n",
       "constructorId                        \n",
       "1                 0.833333   1.403459\n",
       "3                 0.000000   0.000000\n",
       "6                 3.000000   3.162278\n",
       "9                 3.500000   2.876235\n",
       "51                0.166667   0.577350\n",
       "117               0.000000   0.000000\n",
       "131               2.416667   2.678478\n",
       "210               0.333333   0.651339\n",
       "213               0.000000   0.000000\n",
       "214               0.250000   0.866025"
      ]
     },
     "execution_count": 88,
     "metadata": {},
     "output_type": "execute_result"
    }
   ],
   "source": [
    "# Write your own code\n",
    "df_subAggConstr_pos = (sprint_results.query(\"raceId >= 100\")\n",
    "                       .groupby([\"constructorId\"])\n",
    "                        .agg(mean_points = ('points','mean'),\n",
    "                             sd_points =   ('points','std')))\n",
    "df_subAggConstr_pos"
   ]
  }
 ],
 "metadata": {
  "kernelspec": {
   "display_name": "base",
   "language": "python",
   "name": "python3"
  },
  "language_info": {
   "codemirror_mode": {
    "name": "ipython",
    "version": 3
   },
   "file_extension": ".py",
   "mimetype": "text/x-python",
   "name": "python",
   "nbconvert_exporter": "python",
   "pygments_lexer": "ipython3",
   "version": "3.11.4"
  },
  "orig_nbformat": 4,
  "vscode": {
   "interpreter": {
    "hash": "45fc1f684f6f416f40889115beff3ddf69879b64cf4bfee48cb72a61e9d15d1a"
   }
  }
 },
 "nbformat": 4,
 "nbformat_minor": 2
}
